{
  "nbformat": 4,
  "nbformat_minor": 0,
  "metadata": {
    "colab": {
      "provenance": [],
      "authorship_tag": "ABX9TyPTdyhcEYKWXRlFRas11zOs",
      "include_colab_link": true
    },
    "kernelspec": {
      "name": "python3",
      "display_name": "Python 3"
    },
    "language_info": {
      "name": "python"
    }
  },
  "cells": [
    {
      "cell_type": "markdown",
      "metadata": {
        "id": "view-in-github",
        "colab_type": "text"
      },
      "source": [
        "<a href=\"https://colab.research.google.com/github/akh-04/ADS_Causal_ML/blob/main/Causal_Inference.ipynb\" target=\"_parent\"><img src=\"https://colab.research.google.com/assets/colab-badge.svg\" alt=\"Open In Colab\"/></a>"
      ]
    },
    {
      "cell_type": "markdown",
      "source": [
        "##Causal Inference: What Is It?\n",
        "*Akhilesh Dongre*\n",
        "\n",
        "\n",
        "Causal inference seeks to address questions of causation. The use of causal inference has numerous applications. Any of the following questions can be answered using causal inference.\n",
        "\n",
        "Did individuals who received the therapy actually benefit from it?\n",
        "Was it the marketing initiative or the holiday that stimulated more sales this month?\n",
        "How much of an impact would higher salaries have on output?\n",
        "Essentially it is the study of the treatments and it’s outcomes."
      ],
      "metadata": {
        "id": "3uIlify-n5lL"
      }
    },
    {
      "cell_type": "markdown",
      "source": [
        "##Demonstration of confounding in causal inference\n",
        "Suppose we are interested in investigating the effect of a binary treatment variable (T) on an outcome variable (Y), and we suspect that a continuous covariate (X) may be a confounder of this relationship. We can use the following code to simulate a dataset with these variables:"
      ],
      "metadata": {
        "id": "T5-aPCwkoHgw"
      }
    },
    {
      "cell_type": "code",
      "source": [
        "import numpy as np\n",
        "import pandas as pd\n",
        "\n",
        "np.random.seed(1234)\n",
        "\n",
        "# Simulate data\n",
        "n = 10\n",
        "X = np.random.normal(loc=0, scale=1, size=n)\n",
        "T = np.random.binomial(n=1, p=0.5, size=n)\n",
        "Y = 2*T + 0.5*X + np.random.normal(loc=0, scale=1, size=n)\n",
        "\n",
        "# Create dataframe\n",
        "df = pd.DataFrame({'X': X, 'T': T, 'Y': Y})"
      ],
      "metadata": {
        "id": "YwuYDrgAoVfp"
      },
      "execution_count": 1,
      "outputs": []
    },
    {
      "cell_type": "markdown",
      "source": [
        "In this code, we first set the random seed to ensure that the results are reproducible. We then simulate 1000 values of the continuous covariate (X) from a normal distribution with mean 0 and standard deviation 1, a binary treatment variable (T) with a probability of success of 0.5, and an outcome variable (Y) with a linear relationship to T and X, as well as random error from a normal distribution with mean 0 and standard deviation 1. Finally, we create a pandas dataframe with the simulated data.\n",
        "\n",
        "To investigate the potential confounding effect of X, we can first calculate the unadjusted treatment effect as the difference in means between the treatment and control groups:"
      ],
      "metadata": {
        "id": "7g5GCKpjpJeM"
      }
    },
    {
      "cell_type": "code",
      "source": [
        "# Unadjusted treatment effect\n",
        "te_unadj = df.loc[df['T'] == 1, 'Y'].mean() - df.loc[df['T'] == 0, 'Y'].mean()\n",
        "\n",
        "print('Unadjusted treatment effect: ', round(te_unadj, 2))"
      ],
      "metadata": {
        "colab": {
          "base_uri": "https://localhost:8080/"
        },
        "id": "QL9sXFrbo3lI",
        "outputId": "f397c487-fb04-4390-f452-1435f1539160"
      },
      "execution_count": 2,
      "outputs": [
        {
          "output_type": "stream",
          "name": "stdout",
          "text": [
            "Unadjusted treatment effect:  1.63\n"
          ]
        }
      ]
    },
    {
      "cell_type": "markdown",
      "source": [
        "This code subsets the dataframe by treatment group and calculates the mean outcome variable for each group, then subtracts the mean for the control group from the mean for the treatment group to obtain the unadjusted treatment effect.\n",
        "\n",
        "Next, we can adjust for the potential confounding effect of X by fitting a linear regression model with T and X as predictor variables:"
      ],
      "metadata": {
        "id": "Xab7N5eRp4uZ"
      }
    },
    {
      "cell_type": "code",
      "source": [
        "# Adjusted treatment effect\n",
        "import statsmodels.api as sm\n",
        "\n",
        "model = sm.OLS.from_formula('Y ~ T + X', data=df)\n",
        "results = model.fit()\n",
        "\n",
        "te_adj = results.params['T']\n",
        "\n",
        "print('Adjusted treatment effect: ', round(te_adj, 2))"
      ],
      "metadata": {
        "colab": {
          "base_uri": "https://localhost:8080/"
        },
        "id": "p3fzf-qpo9S7",
        "outputId": "603e4ec7-8ea9-41cb-ad44-c6abd2b7ab77"
      },
      "execution_count": 3,
      "outputs": [
        {
          "output_type": "stream",
          "name": "stdout",
          "text": [
            "Adjusted treatment effect:  2.22\n"
          ]
        }
      ]
    },
    {
      "cell_type": "markdown",
      "source": [
        "We fit a linear regression model with Y as the response variable, and T and X as predictor variables. We then extract the coefficient for T from the model results to obtain the adjusted treatment effect.\n",
        "\n",
        "Comparing the unadjusted and adjusted treatment effects allows us to see the potential impact of confounding in this relationship. If the adjusted treatment effect is substantially different from the unadjusted treatment effect, this suggests that the covariate X is a confounder and needs to be accounted for in the causal inference."
      ],
      "metadata": {
        "id": "qUHcpjCEqA3F"
      }
    },
    {
      "cell_type": "markdown",
      "source": [
        "##Demonstration of Stratification in causal inference\n",
        "\n"
      ],
      "metadata": {
        "id": "SXkUZqyHrPiJ"
      }
    },
    {
      "cell_type": "markdown",
      "source": [
        "Suppose we are interested in investigating the effect of a binary treatment variable (T) on an outcome variable (Y), and we suspect that a categorical covariate (Z) may be a confounder of this relationship. We can use the following code to simulate a dataset with these variables:"
      ],
      "metadata": {
        "id": "4gIB0xo2sWlB"
      }
    },
    {
      "cell_type": "markdown",
      "source": [
        "The Causal Relationship we are exploring between Z,T and Y\n",
        "\n",
        "\n",
        "```\n",
        "Z --> T --> Y\n",
        "  \\      /\n",
        "   \\    /\n",
        "    Confounder: Z\n",
        "```\n",
        "\n"
      ],
      "metadata": {
        "id": "baq3pnfAscde"
      }
    },
    {
      "cell_type": "code",
      "source": [
        "from graphviz import Digraph\n",
        "dag = Digraph()\n",
        "dag.node('Z', 'Z')\n",
        "dag.node('T', 'T')\n",
        "dag.node('Y', 'Y')\n",
        "\n",
        "\n",
        "dag.edges(['ZT', 'TY', 'ZY', 'YZ'])\n",
        "\n",
        "\n"
      ],
      "metadata": {
        "id": "Oy6Ss8Dxuz3P"
      },
      "execution_count": 4,
      "outputs": []
    },
    {
      "cell_type": "code",
      "source": [
        "np.random.seed(283)\n",
        "\n",
        "# Simulate data\n",
        "n = 120\n",
        "Z = np.random.choice(['A', 'B', 'C'], size=n)\n",
        "T = np.random.binomial(n=1, p=0.5, size=n)\n",
        "Y = 2*T + 0.5*(Z == 'B') + np.random.normal(loc=0, scale=1, size=n)\n",
        "\n",
        "# Create dataframe\n",
        "df = pd.DataFrame({'Z': Z, 'T': T, 'Y': Y})\n"
      ],
      "metadata": {
        "id": "lDGfkwJwrXcU"
      },
      "execution_count": 5,
      "outputs": []
    },
    {
      "cell_type": "markdown",
      "source": [
        "Now, we first set the random seed to ensure that the results are reproducible. We then simulate 1000 values of the categorical covariate (Z) by randomly sampling from the set ['A', 'B', 'C'], a binary treatment variable (T) with a probability of success of 0.5, and an outcome variable (Y) with a linear relationship to T and a binary indicator variable for Z == 'B', as well as random error from a normal distribution with mean 0 and standard deviation 1. Finally, we create a pandas dataframe with the simulated data.\n",
        "\n",
        "To investigate the potential confounding effect of Z, we can first calculate the unadjusted treatment effect separately for each level of Z:"
      ],
      "metadata": {
        "id": "_QCYsYSWsNKL"
      }
    },
    {
      "cell_type": "code",
      "source": [
        "# Unadjusted treatment effect by strata\n",
        "strata = df.groupby('Z')\n",
        "\n",
        "te_unadj = strata.apply(lambda x: x.loc[x['T'] == 1, 'Y'].mean() - x.loc[x['T'] == 0, 'Y'].mean())\n",
        "\n",
        "print('Unadjusted treatment effect by strata: \\n', te_unadj)"
      ],
      "metadata": {
        "colab": {
          "base_uri": "https://localhost:8080/"
        },
        "id": "FoMYhMiDrYBr",
        "outputId": "a62fc5de-7ebb-4d9c-fcc4-0eb8821c930e"
      },
      "execution_count": 6,
      "outputs": [
        {
          "output_type": "stream",
          "name": "stdout",
          "text": [
            "Unadjusted treatment effect by strata: \n",
            " Z\n",
            "A    1.584659\n",
            "B    1.800243\n",
            "C    1.946186\n",
            "dtype: float64\n"
          ]
        }
      ]
    },
    {
      "cell_type": "markdown",
      "source": [
        "This code groups the dataframe by the categorical covariate Z and applies a function to each group to calculate the unadjusted treatment effect separately for each stratum.\n",
        "\n",
        "Next, we can adjust for the potential confounding effect of Z by stratifying the data by Z and fitting a linear regression model with T as a predictor variable in each stratum:"
      ],
      "metadata": {
        "id": "RAke2t25sHGI"
      }
    },
    {
      "cell_type": "code",
      "source": [
        "# Adjusted treatment effect by strata\n",
        "te_adj = []\n",
        "\n",
        "for z in ['A', 'B', 'C']:\n",
        "    model = sm.OLS.from_formula('Y ~ T', data=df.loc[df['Z'] == z])\n",
        "    results = model.fit()\n",
        "    te_adj.append(results.params['T'])\n",
        "\n",
        "te_adj = pd.Series(te_adj, index=['A', 'B', 'C'])\n",
        "\n",
        "print('Adjusted treatment effect by strata: \\n', te_adj)"
      ],
      "metadata": {
        "colab": {
          "base_uri": "https://localhost:8080/"
        },
        "id": "1UTl49o-reNX",
        "outputId": "84071d30-4d06-4aed-f3d4-50fa3779a24c"
      },
      "execution_count": 7,
      "outputs": [
        {
          "output_type": "stream",
          "name": "stdout",
          "text": [
            "Adjusted treatment effect by strata: \n",
            " A    1.584659\n",
            "B    1.800243\n",
            "C    1.946186\n",
            "dtype: float64\n"
          ]
        }
      ]
    },
    {
      "cell_type": "markdown",
      "source": [
        "This code uses a for loop to iterate over each level of the categorical covariate Z and fit a linear regression model with Y as the response variable and T as the predictor variable in each stratum. We then extract the coefficient for T from each model to obtain the adjusted treatment effect in each stratum.\n",
        "\n",
        "Comparing the unadjusted and adjusted treatment effects within each stratum allows us to see the potential impact of confounding in each subgroup. If the adjusted treatment effect is substantially different from the unadjusted treatment effect within a particular stratum, this suggests that the covariate Z is a confounder and needs to be accounted for in the causal inference."
      ],
      "metadata": {
        "id": "ILjbAJFersW9"
      }
    },
    {
      "cell_type": "markdown",
      "source": [
        "Unadjusted values refer to the raw or observed association between the treatment and the outcome, without accounting for any potential confounding variables that may be affecting the relationship between the two. In other words, unadjusted values represent the \"naive\" effect of the treatment on the outcome.\n",
        "\n",
        "Adjusted values, on the other hand, refer to the effect of the treatment on the outcome after accounting for potential confounding variables. Adjusted values are obtained by using statistical methods, such as regression modeling, to adjust for the effects of confounding variables that may be associated with both the treatment and the outcome."
      ],
      "metadata": {
        "id": "mr5MDVHetHHl"
      }
    },
    {
      "cell_type": "markdown",
      "source": [
        "## A sample example for finding causal inferences"
      ],
      "metadata": {
        "id": "ZPX5EMP8uI2d"
      }
    },
    {
      "cell_type": "markdown",
      "source": [
        "The dataset consists of web analytics data trying to capture the user click rate. The dataset consists of tagname, visisblity of the tag, num clicks and the different versions."
      ],
      "metadata": {
        "id": "yBtgJPUXohaf"
      }
    },
    {
      "cell_type": "code",
      "source": [
        "data_url = \"https://raw.githubusercontent.com/akh-04/AED_1/f0f3b60ea3194156419a75328abc40a3a438a0f0/data.csv\""
      ],
      "metadata": {
        "id": "Kd7LFBtludC4"
      },
      "execution_count": 8,
      "outputs": []
    },
    {
      "cell_type": "code",
      "source": [
        "ab_testing_data = pd.read_csv(data_url)"
      ],
      "metadata": {
        "id": "0jwA2iiWuzDU"
      },
      "execution_count": 9,
      "outputs": []
    },
    {
      "cell_type": "code",
      "source": [
        "from graphviz import Digraph\n",
        "dag = Digraph()\n",
        "dag.node('T', 'Tag Name')\n",
        "dag.node('S', 'isVisible')\n",
        "dag.node('V', 'Version')\n",
        "dag.node('C', 'Clicks')\n",
        "\n",
        "dag.edges(['VT', 'VS', 'SC', 'TC'])\n",
        "dag"
      ],
      "metadata": {
        "colab": {
          "base_uri": "https://localhost:8080/",
          "height": 272
        },
        "id": "E3vbBjTbvCa5",
        "outputId": "667c32ce-860b-41ac-b6fc-0a73034df112"
      },
      "execution_count": 10,
      "outputs": [
        {
          "output_type": "execute_result",
          "data": {
            "image/svg+xml": "<?xml version=\"1.0\" encoding=\"UTF-8\" standalone=\"no\"?>\n<!DOCTYPE svg PUBLIC \"-//W3C//DTD SVG 1.1//EN\"\n \"http://www.w3.org/Graphics/SVG/1.1/DTD/svg11.dtd\">\n<!-- Generated by graphviz version 2.43.0 (0)\n -->\n<!-- Title: %3 Pages: 1 -->\n<svg width=\"206pt\" height=\"188pt\"\n viewBox=\"0.00 0.00 205.69 188.00\" xmlns=\"http://www.w3.org/2000/svg\" xmlns:xlink=\"http://www.w3.org/1999/xlink\">\n<g id=\"graph0\" class=\"graph\" transform=\"scale(1 1) rotate(0) translate(4 184)\">\n<title>%3</title>\n<polygon fill=\"white\" stroke=\"transparent\" points=\"-4,4 -4,-184 201.69,-184 201.69,4 -4,4\"/>\n<!-- T -->\n<g id=\"node1\" class=\"node\">\n<title>T</title>\n<ellipse fill=\"none\" stroke=\"black\" cx=\"48.1\" cy=\"-90\" rx=\"48.19\" ry=\"18\"/>\n<text text-anchor=\"middle\" x=\"48.1\" y=\"-86.3\" font-family=\"Times,serif\" font-size=\"14.00\">Tag Name</text>\n</g>\n<!-- C -->\n<g id=\"node4\" class=\"node\">\n<title>C</title>\n<ellipse fill=\"none\" stroke=\"black\" cx=\"102.1\" cy=\"-18\" rx=\"33.29\" ry=\"18\"/>\n<text text-anchor=\"middle\" x=\"102.1\" y=\"-14.3\" font-family=\"Times,serif\" font-size=\"14.00\">Clicks</text>\n</g>\n<!-- T&#45;&gt;C -->\n<g id=\"edge4\" class=\"edge\">\n<title>T&#45;&gt;C</title>\n<path fill=\"none\" stroke=\"black\" d=\"M60.89,-72.41C67.65,-63.66 76.06,-52.75 83.52,-43.08\"/>\n<polygon fill=\"black\" stroke=\"black\" points=\"86.43,-45.04 89.76,-34.99 80.88,-40.77 86.43,-45.04\"/>\n</g>\n<!-- S -->\n<g id=\"node2\" class=\"node\">\n<title>S</title>\n<ellipse fill=\"none\" stroke=\"black\" cx=\"156.1\" cy=\"-90\" rx=\"41.69\" ry=\"18\"/>\n<text text-anchor=\"middle\" x=\"156.1\" y=\"-86.3\" font-family=\"Times,serif\" font-size=\"14.00\">isVisible</text>\n</g>\n<!-- S&#45;&gt;C -->\n<g id=\"edge3\" class=\"edge\">\n<title>S&#45;&gt;C</title>\n<path fill=\"none\" stroke=\"black\" d=\"M143.57,-72.76C136.82,-64.02 128.36,-53.05 120.85,-43.31\"/>\n<polygon fill=\"black\" stroke=\"black\" points=\"123.43,-40.93 114.55,-35.15 117.89,-45.2 123.43,-40.93\"/>\n</g>\n<!-- V -->\n<g id=\"node3\" class=\"node\">\n<title>V</title>\n<ellipse fill=\"none\" stroke=\"black\" cx=\"102.1\" cy=\"-162\" rx=\"37.89\" ry=\"18\"/>\n<text text-anchor=\"middle\" x=\"102.1\" y=\"-158.3\" font-family=\"Times,serif\" font-size=\"14.00\">Version</text>\n</g>\n<!-- V&#45;&gt;T -->\n<g id=\"edge1\" class=\"edge\">\n<title>V&#45;&gt;T</title>\n<path fill=\"none\" stroke=\"black\" d=\"M89.57,-144.76C82.92,-136.14 74.61,-125.36 67.17,-115.73\"/>\n<polygon fill=\"black\" stroke=\"black\" points=\"69.81,-113.41 60.93,-107.63 64.26,-117.69 69.81,-113.41\"/>\n</g>\n<!-- V&#45;&gt;S -->\n<g id=\"edge2\" class=\"edge\">\n<title>V&#45;&gt;S</title>\n<path fill=\"none\" stroke=\"black\" d=\"M114.62,-144.76C121.27,-136.14 129.59,-125.36 137.02,-115.73\"/>\n<polygon fill=\"black\" stroke=\"black\" points=\"139.93,-117.69 143.26,-107.63 134.38,-113.41 139.93,-117.69\"/>\n</g>\n</g>\n</svg>\n",
            "text/plain": [
              "<graphviz.graphs.Digraph at 0x7ff4fbd22a90>"
            ]
          },
          "metadata": {},
          "execution_count": 10
        }
      ]
    },
    {
      "cell_type": "markdown",
      "source": [
        "We will find the causation on the basis of the DAG above"
      ],
      "metadata": {
        "id": "nPOH9ZpbtlL5"
      }
    },
    {
      "cell_type": "code",
      "source": [
        "!pip install torch==1.7.0\n",
        "!pip install pyro-ppl\n",
        "import pyro\n",
        "import pyro.distributions as dist\n",
        "from pyro.infer import Importance, EmpiricalMarginal\n",
        "import matplotlib.pyplot as plt\n",
        "import torch\n",
        "import numpy as np"
      ],
      "metadata": {
        "colab": {
          "base_uri": "https://localhost:8080/"
        },
        "id": "O6RcSqmyvIKS",
        "outputId": "04ebb899-a8c4-44c9-be00-6563f9e8c907"
      },
      "execution_count": 11,
      "outputs": [
        {
          "output_type": "stream",
          "name": "stdout",
          "text": [
            "Looking in indexes: https://pypi.org/simple, https://us-python.pkg.dev/colab-wheels/public/simple/\n",
            "\u001b[31mERROR: Could not find a version that satisfies the requirement torch==1.7.0 (from versions: 1.7.1, 1.8.0, 1.8.1, 1.9.0, 1.9.1, 1.10.0, 1.10.1, 1.10.2, 1.11.0, 1.12.0, 1.12.1, 1.13.0, 1.13.1, 2.0.0)\u001b[0m\u001b[31m\n",
            "\u001b[0m\u001b[31mERROR: No matching distribution found for torch==1.7.0\u001b[0m\u001b[31m\n",
            "\u001b[0mLooking in indexes: https://pypi.org/simple, https://us-python.pkg.dev/colab-wheels/public/simple/\n",
            "Requirement already satisfied: pyro-ppl in /usr/local/lib/python3.9/dist-packages (1.8.4)\n",
            "Requirement already satisfied: torch>=1.11.0 in /usr/local/lib/python3.9/dist-packages (from pyro-ppl) (2.0.0+cu118)\n",
            "Requirement already satisfied: opt-einsum>=2.3.2 in /usr/local/lib/python3.9/dist-packages (from pyro-ppl) (3.3.0)\n",
            "Requirement already satisfied: tqdm>=4.36 in /usr/local/lib/python3.9/dist-packages (from pyro-ppl) (4.65.0)\n",
            "Requirement already satisfied: pyro-api>=0.1.1 in /usr/local/lib/python3.9/dist-packages (from pyro-ppl) (0.1.2)\n",
            "Requirement already satisfied: numpy>=1.7 in /usr/local/lib/python3.9/dist-packages (from pyro-ppl) (1.22.4)\n",
            "Requirement already satisfied: sympy in /usr/local/lib/python3.9/dist-packages (from torch>=1.11.0->pyro-ppl) (1.11.1)\n",
            "Requirement already satisfied: networkx in /usr/local/lib/python3.9/dist-packages (from torch>=1.11.0->pyro-ppl) (3.1)\n",
            "Requirement already satisfied: filelock in /usr/local/lib/python3.9/dist-packages (from torch>=1.11.0->pyro-ppl) (3.11.0)\n",
            "Requirement already satisfied: typing-extensions in /usr/local/lib/python3.9/dist-packages (from torch>=1.11.0->pyro-ppl) (4.5.0)\n",
            "Requirement already satisfied: jinja2 in /usr/local/lib/python3.9/dist-packages (from torch>=1.11.0->pyro-ppl) (3.1.2)\n",
            "Requirement already satisfied: triton==2.0.0 in /usr/local/lib/python3.9/dist-packages (from torch>=1.11.0->pyro-ppl) (2.0.0)\n",
            "Requirement already satisfied: lit in /usr/local/lib/python3.9/dist-packages (from triton==2.0.0->torch>=1.11.0->pyro-ppl) (16.0.1)\n",
            "Requirement already satisfied: cmake in /usr/local/lib/python3.9/dist-packages (from triton==2.0.0->torch>=1.11.0->pyro-ppl) (3.25.2)\n",
            "Requirement already satisfied: MarkupSafe>=2.0 in /usr/local/lib/python3.9/dist-packages (from jinja2->torch>=1.11.0->pyro-ppl) (2.1.2)\n",
            "Requirement already satisfied: mpmath>=0.19 in /usr/local/lib/python3.9/dist-packages (from sympy->torch>=1.11.0->pyro-ppl) (1.3.0)\n"
          ]
        }
      ]
    },
    {
      "cell_type": "code",
      "source": [
        "import torch\n",
        "V_prob = torch.tensor([0.23, 0.194, 0.207, 0.190, 0.177])\n",
        "S_prob = torch.tensor([[0.16, 0.84], [0.19, 0.81], [0.22, 0.78], [0.08, 0.92], [0.11, 0.89]])\n",
        "\n",
        "T_prob = torch.tensor([[0.404, 0.014, 0.014, 0.0001, 0.289, 0.0001, 0.01, 0.029, 0.014, 0.043, 0.0001, 0.043, 0.115, 0.0001, 0.01], \n",
        "                       [0.446, 0.017, 0.017, 0.0002, 0.240, 0.0002, 0.017, 0.034, 0.017, 0.0002, 0.0002, 0.103, 0.086, 0.0002, 0.0174], \\\n",
        "                       [0.4503, 0.016, 0.016, 0.032, 0.209, 0.0002, 0.016, 0.032, 0.016, 0.0002, 0.016, 0.080, 0.080, 0.016, 0.016], \\\n",
        "                       [0.489, 0.017, 0.017, 0.0002, 0.244, 0.0002, 0.0177, 0.052, 0.0177, 0.0177, 0.0002, 0.070, 0.035, 0.0002, 0.0177], \\\n",
        "                       [0.507, 0.019, 0.019, 0.019, 0.169, 0.019, 0.019, 0.037, 0.019, 0.0002, 0.0002, 0.0754, 0.0754, 0.0002, 0.019]])\n",
        "\n",
        "C_prob = torch.tensor([[[0.0009, 0.996, 0.009, 0.009, 0.009], [0.03, 0.57, 0.007, 0.05, 0.33]],\n",
        "                       [[0.20, 0.001, 0.001, 0.20, 0.59], [0.20, 0.20, 0.20, 0.20, 0.20]], \\\n",
        "                       [[0.20, 0.20, 0.20, 0.20, 0.20], [0.001, 0.001, 0.001, 0.20, 0.797]], \\\n",
        "                       [[0.002, 0.9912, 0.002, 0.002, 0.002], [0.2, 0.2, 0.2, 0.2, 0.2]], \\\n",
        "                       [[0.0003, 0.998, 0.0003, 0.0003, 0.0003], [0.0001, 0.9602, 0.0001, 0.0001, 0.03932]], \\\n",
        "                       [[0.0064, 0.9741, 0.0064, 0.0064, 0.0064], [0.2, 0.2, 0.2, 0.2, 0.2]], \\\n",
        "                       [[0.2, 0.2, 0.2, 0.2, 0.2], [0.001, 0.796, 0.001, 0.001, 0.20]], \\\n",
        "                       [[0.002, 0.992, 0.002, 0.002, 0.002], [0.0009, 0.9962, 0.0009, 0.0009, 0.0009]], \\\n",
        "                       [[0.2, 0.2, 0.2, 0.2, 0.2], [0.2, 0.0013, 0.796, 0.00132, 0.00132]],\\\n",
        "                       [[0.2, 0.2, 0.2, 0.2, 0.2], [0.001, 0.993, 0.002, 0.002, 0.002]],\\\n",
        "                       [[0.0064, 0.974, 0.006, 0.006, 0.006],[0.2, 0.2, 0.2, 0.2, 0.2]],\\\n",
        "                       [[0.0011, 0.996, 0.001, 0.001, 0.001],[0.0004, 0.936, 0.0004, 0.0004, 0.0628]],\\\n",
        "                       [[0.2,0.2,0.2, 0.2, 0.2],[0.0003, 0.9157, 0.0003, 0.0003, 0.0835]],\\\n",
        "                       [[0.0065, 0.974, 0.0065, 0.0065, 0.0065],[0.2, 0.2, 0.2, 0.2, 0.2]],\\\n",
        "                       [[0.2, 0.2, 0.2, 0.2, 0.2],[0.0013, 0.9947, 0.0013, 0.0013, 0.0013]]])"
      ],
      "metadata": {
        "id": "1Fu1Dz2dvWoa"
      },
      "execution_count": 12,
      "outputs": []
    },
    {
      "cell_type": "code",
      "source": [
        "def model():\n",
        "    V = pyro.sample(\"V\", dist.Categorical(probs=V_prob))\n",
        "    T = pyro.sample(\"T\", dist.Categorical(probs=T_prob[V]))\n",
        "    S = pyro.sample(\"S\", dist.Categorical(probs=S_prob[V]))\n",
        "    C = pyro.sample(\"C\", dist.Categorical(probs=C_prob[T][S]))\n",
        "    return{'V': V,'S': S,'T': T,'C': C}"
      ],
      "metadata": {
        "id": "qJq1SBhMvhP0"
      },
      "execution_count": 13,
      "outputs": []
    },
    {
      "cell_type": "code",
      "source": [
        "# Getting the cpt tables from bnlearn fit values\n",
        "V_alias = ['v1','v2','v3', 'v4', 'v5']\n",
        "T_alias = ['a','area', 'button', 'center', 'div', 'font', 'form', 'img', 'input', 'li', 'object', 'p', 'span', 'strong', 'ul']\n",
        "S_alias = ['False','True']\n",
        "C_alias = ['HIGH','LOW', 'MEDHIGH', 'MEDIUM', 'MEDLOW']"
      ],
      "metadata": {
        "id": "CoYdPuo8v4k3"
      },
      "execution_count": 14,
      "outputs": []
    },
    {
      "cell_type": "markdown",
      "source": [
        "Query 1: To find probability of versions, given an evidence. i.e. This is an interesting query as we go against the direction of the DAG.\n",
        "\n",
        "Evidence: Click through is MEDHIGH and visibility of tag is TRUE"
      ],
      "metadata": {
        "id": "iWSzkMkyjSXj"
      }
    },
    {
      "cell_type": "code",
      "source": [
        "conditioned_model_1 = pyro.condition(model, data={'C':torch.tensor(2), 'S': torch.tensor(1)})\n",
        "\n",
        "V_posterior = Importance(conditioned_model_1, num_samples=5000).run()\n",
        "V_marginal = EmpiricalMarginal(V_posterior,\"V\")\n",
        "V_samples = [V_marginal().item() for _ in range(5000)]\n",
        "V_unique, V_counts = np.unique(V_samples, return_counts=True)\n",
        "\n",
        "plt.bar(V_unique, V_counts/5000, align='center', alpha=0.5)\n",
        "plt.xticks(V_unique, V_alias)\n",
        "plt.ylabel('Posterior Probability')\n",
        "plt.xlabel('Versions')\n",
        "plt.title('P(V | C = MEDHIGH, S= Visible) - Importance Sampling')\n"
      ],
      "metadata": {
        "colab": {
          "base_uri": "https://localhost:8080/",
          "height": 490
        },
        "id": "t5jviCGmvk51",
        "outputId": "75e2d735-0a02-45f6-9840-20926e23ce42"
      },
      "execution_count": 15,
      "outputs": [
        {
          "output_type": "execute_result",
          "data": {
            "text/plain": [
              "Text(0.5, 1.0, 'P(V | C = MEDHIGH, S= Visible) - Importance Sampling')"
            ]
          },
          "metadata": {},
          "execution_count": 15
        },
        {
          "output_type": "display_data",
          "data": {
            "text/plain": [
              "<Figure size 640x480 with 1 Axes>"
            ],
            "image/png": "[encoded data removed]"
          },
          "metadata": {}
        }
      ]
    },
    {
      "cell_type": "code",
      "source": [
        "intervention_condition = pyro.do(model, data={'C':torch.tensor(2), 'S': torch.tensor(1)})\n",
        "\n",
        "V_posterior = Importance(intervention_condition, num_samples=5000).run()\n",
        "V_marginal = EmpiricalMarginal(V_posterior,\"V\")\n",
        "V_samples = [V_marginal().item() for _ in range(5000)]\n",
        "V_unique, V_counts = np.unique(V_samples, return_counts=True)\n",
        "\n",
        "plt.bar(V_unique, V_counts/5000, align='center', alpha=0.5)\n",
        "plt.xticks(V_unique, V_alias)\n",
        "plt.ylabel('Posterior Probability')\n",
        "plt.xlabel('Versions')\n",
        "plt.title('P(V | do(C = MEDHIGH, S= Visible) - Importance Sampling')"
      ],
      "metadata": {
        "colab": {
          "base_uri": "https://localhost:8080/",
          "height": 490
        },
        "id": "Lst5woMcvout",
        "outputId": "d69cbc0b-2ac8-420f-ac12-a7f21a4430ba"
      },
      "execution_count": 16,
      "outputs": [
        {
          "output_type": "execute_result",
          "data": {
            "text/plain": [
              "Text(0.5, 1.0, 'P(V | do(C = MEDHIGH, S= Visible) - Importance Sampling')"
            ]
          },
          "metadata": {},
          "execution_count": 16
        },
        {
          "output_type": "display_data",
          "data": {
            "text/plain": [
              "<Figure size 640x480 with 1 Axes>"
            ],
            "image/png": "[encoded data removed]"
          },
          "metadata": {}
        }
      ]
    },
    {
      "cell_type": "markdown",
      "source": [
        "Query 2: To find the probability of tag names given evidence about click rate.\n",
        "\n",
        "Evidence: Click through is HIGH"
      ],
      "metadata": {
        "id": "7Lf3_afxjoTm"
      }
    },
    {
      "cell_type": "code",
      "source": [
        "conditioned_model_2 = pyro.condition(model, data={'C':torch.tensor(0)})\n",
        "\n",
        "T_posterior = Importance(conditioned_model_2, num_samples=5000).run()\n",
        "T_marginal = EmpiricalMarginal(T_posterior,\"T\")\n",
        "T_samples = [T_marginal().item() for _ in range(5000)]\n",
        "T_unique, T_counts = np.unique(T_samples, return_counts=True)\n",
        "plt.figure(figsize=(15,10))\n",
        "plt.bar(T_unique, T_counts/5000, align='center', alpha=0.5)\n",
        "plt.xticks(T_unique, T_alias)\n",
        "plt.ylabel('Posterior Probability')\n",
        "plt.xlabel('Tag-Names')\n",
        "plt.title('P(T | C = HIGH) - Importance Sampling')"
      ],
      "metadata": {
        "colab": {
          "base_uri": "https://localhost:8080/",
          "height": 890
        },
        "id": "91Isl-8QvsjO",
        "outputId": "8d58fee3-1c05-4fec-abea-72608289a753"
      },
      "execution_count": 17,
      "outputs": [
        {
          "output_type": "execute_result",
          "data": {
            "text/plain": [
              "Text(0.5, 1.0, 'P(T | C = HIGH) - Importance Sampling')"
            ]
          },
          "metadata": {},
          "execution_count": 17
        },
        {
          "output_type": "display_data",
          "data": {
            "text/plain": [
              "<Figure size 1500x1000 with 1 Axes>"
            ],
            "image/png": "[encoded data removed]"
          },
          "metadata": {}
        }
      ]
    },
    {
      "cell_type": "markdown",
      "source": [
        "An interesting observation is that, from data, we see that the probability of the area tag in occuring is very low in 0.001 range. But given the evidence that the click rate is HIGH we see that the probability of the area tag goes up 10 fold."
      ],
      "metadata": {
        "id": "7j7st3N_kKzb"
      }
    },
    {
      "cell_type": "code",
      "source": [
        "intervention_model_visible = pyro.do(model, data= {\"S\": torch.tensor(1)})\n",
        "intervention_model_visible_no = pyro.condition(model, data= {\"S\": torch.tensor(0)})\n",
        "\n",
        "\n",
        "C_posterior = Importance(intervention_model_visible, num_samples=5000).run()\n",
        "C_marginal = EmpiricalMarginal(C_posterior,\"C\")\n",
        "C_samples = [C_marginal().item() for _ in range(5000)]\n",
        "C_unique, C_counts = np.unique(C_samples, return_counts=True)\n",
        "plt.bar(C_unique, C_counts/5000, align='center', alpha=0.5)\n",
        "plt.xticks(C_unique, C_alias)\n",
        "plt.ylabel('Posterior Probability')\n",
        "plt.xlabel('Click Rate')\n",
        "plt.title('P(C | do(Visible=True)) - Importance Sampling')"
      ],
      "metadata": {
        "colab": {
          "base_uri": "https://localhost:8080/",
          "height": 490
        },
        "id": "_nyCOWyiwexQ",
        "outputId": "8232db99-5a1f-42db-c42b-3c94c23de273"
      },
      "execution_count": 21,
      "outputs": [
        {
          "output_type": "execute_result",
          "data": {
            "text/plain": [
              "Text(0.5, 1.0, 'P(C | do(Visible=True)) - Importance Sampling')"
            ]
          },
          "metadata": {},
          "execution_count": 21
        },
        {
          "output_type": "display_data",
          "data": {
            "text/plain": [
              "<Figure size 640x480 with 1 Axes>"
            ],
            "image/png": "[encoded data removed]"
          },
          "metadata": {}
        }
      ]
    },
    {
      "cell_type": "markdown",
      "source": [
        "##Causal Effect Query\n",
        "Does Setting visibility to TRUE for all elements make any effect ?"
      ],
      "metadata": {
        "id": "ETug8z7Zkus6"
      }
    },
    {
      "cell_type": "code",
      "source": [
        "def causal_effect(val):\n",
        "  c_samples_visible = [\n",
        "    1 if intervention_model_visible()['C'] == val else 0\n",
        "    for _ in range(5000)\n",
        "  ]\n",
        "  c_samples_not_visible = [\n",
        "      1 if intervention_model_visible_no()['C'] == val else 0\n",
        "      for _ in range(5000)\n",
        "  ]\n",
        "\n",
        "  causal_effect = np.mean(c_samples_visible) - np.mean(c_samples_not_visible)\n",
        "  return causal_effect"
      ],
      "metadata": {
        "id": "8biISXqPwE05"
      },
      "execution_count": 22,
      "outputs": []
    },
    {
      "cell_type": "code",
      "source": [
        "for lvl in C_alias:\n",
        "  diff = causal_effect(C_alias.index(lvl))\n",
        "  print(f\"E(Click = {lvl} | do(Visible = True) - E(Click = {lvl} | do(Visible = False))) is {diff}\")"
      ],
      "metadata": {
        "colab": {
          "base_uri": "https://localhost:8080/"
        },
        "id": "1jA2IGhAwUxK",
        "outputId": "bbfaf153-9774-4ed5-a8ac-3a4147ed0538"
      },
      "execution_count": 23,
      "outputs": [
        {
          "output_type": "stream",
          "name": "stdout",
          "text": [
            "E(Click = HIGH | do(Visible = True) - E(Click = HIGH | do(Visible = False))) is -0.011799999999999998\n",
            "E(Click = LOW | do(Visible = True) - E(Click = LOW | do(Visible = False))) is -0.12919999999999998\n",
            "E(Click = MEDHIGH | do(Visible = True) - E(Click = MEDHIGH | do(Visible = False))) is -0.012200000000000003\n",
            "E(Click = MEDIUM | do(Visible = True) - E(Click = MEDIUM | do(Visible = False))) is -0.006399999999999996\n",
            "E(Click = MEDLOW | do(Visible = True) - E(Click = MEDLOW | do(Visible = False))) is 0.1582\n"
          ]
        }
      ]
    },
    {
      "cell_type": "markdown",
      "source": [
        "The likelihood of MED-LOW is enhanced and the probability of LOW is drastically decreased when all tags are made visible, as can be seen. By making all tags accessible, there is a 15% probability that the click rates will rise from the 0–10 range to the 10–100 range."
      ],
      "metadata": {
        "id": "3rJkRKF1kxY_"
      }
    },
    {
      "cell_type": "markdown",
      "source": [
        "##Conclusion\n",
        "\n",
        "Through the above use case of Click through rate we can observe causality w.r.t.\n",
        "Visibility varied through HIGH, LOW and MEDIUM. and how these in affect impact the Click through rate."
      ],
      "metadata": {
        "id": "jB7XeADalBaQ"
      }
    },
    {
      "cell_type": "markdown",
      "source": [
        "##References\n",
        "\n",
        "1. [Introduction to Causal Inference](https://www.bradyneal.com/causal-inference-course)\n",
        "2.[Hernán MA, Robins JM (2020). Causal Inference: What If. Boca Raton: Chapman & Hall/CRC.](https://www.hsph.harvard.edu/miguel-hernan/wp-content/uploads/sites/1268/2023/04/hernanrobins_WhatIf_31mar23.pdf)\n",
        "3. [Series of Medium articles on Causal Inference and Its Fundamentals ](https://medium.com/data-science-at-microsoft/causal-inference-part-1-of-3-understanding-the-fundamentals-816f4723e54a)\n",
        "\n",
        "4. [Causal Inference with Python](https://towardsdatascience.com/causal-inference-962ae97cefda)"
      ],
      "metadata": {
        "id": "UbhEJIEomI7p"
      }
    },
    {
      "cell_type": "markdown",
      "source": [
        "License\n",
        "All code in this notebook is available as open source through the MIT license.\n",
        "\n",
        "All text and images are free to use under the Creative Commons Attribution 3.0 license. https://creativecommons.org/licenses/by/3.0/us/\n",
        "\n",
        "These licenses let people distribute, remix, tweak, and build upon the work, even commercially, as long as they give credit for the original creation.\n",
        "\n",
        "Copyright 2023 AI Skunks https://github.com/aiskunks\n",
        "\n",
        "Permission is hereby granted, free of charge, to any person obtaining a copy of this software and associated documentation files (the “Software”), to deal in the Software without restriction, including without limitation the rights to use, copy, modify, merge, publish, distribute, sublicense, and/or sell copies of the Software, and to permit persons to whom the Software is furnished to do so, subject to the following conditions:\n",
        "\n",
        "The above copyright notice and this permission notice shall be included in all copies or substantial portions of the Software.\n",
        "\n",
        "THE SOFTWARE IS PROVIDED “AS IS”, WITHOUT WARRANTY OF ANY KIND, EXPRESS OR IMPLIED, INCLUDING BUT NOT LIMITED TO THE WARRANTIES OF MERCHANTABILITY, FITNESS FOR A PARTICULAR PURPOSE AND NONINFRINGEMENT. IN NO EVENT SHALL THE AUTHORS OR COPYRIGHT HOLDERS BE LIABLE FOR ANY CLAIM, DAMAGES OR OTHER LIABILITY, WHETHER IN AN ACTION OF CONTRACT, TORT OR OTHERWISE, ARISING FROM, OUT OF OR IN CONNECTION WITH THE SOFTWARE OR THE USE OR OTHER DEALINGS IN THE SOFTWARE.\n",
        "\n"
      ],
      "metadata": {
        "id": "XZMWmDiwOzxO"
      }
    },
    {
      "cell_type": "code",
      "source": [],
      "metadata": {
        "id": "s3pDo03JO0gV"
      },
      "execution_count": null,
      "outputs": []
    }
  ]
}